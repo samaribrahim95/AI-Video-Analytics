{
 "cells": [
  {
   "cell_type": "code",
   "execution_count": 38,
   "metadata": {},
   "outputs": [],
   "source": [
    "import os\n",
    "import cv2\n",
    "import face_detection\n",
    "import numpy as np \n",
    "import matplotlib.pyplot as plt\n",
    "from keras.models import load_model\n",
    "from sklearn.metrics import confusion_matrix, ConfusionMatrixDisplay\n",
    "from tensorflow.keras.applications.resnet50 import preprocess_input"
   ]
  },
  {
   "cell_type": "code",
   "execution_count": 39,
   "metadata": {},
   "outputs": [],
   "source": [
    "detector = face_detection.build_detector(\"RetinaNetMobileNetV1\", confidence_threshold=.5, nms_iou_threshold=.3)\n",
    "\n",
    "# Load Pretrained Face Mask Classfier (Keras Model)\n",
    "mask_classifier = load_model(\"Models/ResNet50_Classifier.h5\")"
   ]
  },
  {
   "cell_type": "code",
   "execution_count": 40,
   "metadata": {},
   "outputs": [],
   "source": [
    "y_true = []"
   ]
  },
  {
   "cell_type": "code",
   "execution_count": 41,
   "metadata": {},
   "outputs": [],
   "source": [
    "masked = []\n",
    "for filename in os.listdir('Testing_Data/with_mask'):\n",
    "  img = cv2.imread(os.path.join('Testing_Data/with_mask',filename))\n",
    "  if img is not None:\n",
    "      masked.append(img)\n",
    "      y_true.append('masked')"
   ]
  },
  {
   "cell_type": "code",
   "execution_count": 42,
   "metadata": {},
   "outputs": [],
   "source": [
    "unmasked = []\n",
    "for filename in os.listdir('Testing_Data/without_mask'):\n",
    "  img = cv2.imread(os.path.join('Testing_Data/without_mask',filename))\n",
    "  if img is not None:\n",
    "      unmasked.append(img)\n",
    "      y_true.append('unmasked')"
   ]
  },
  {
   "cell_type": "code",
   "execution_count": 43,
   "metadata": {},
   "outputs": [],
   "source": [
    "y_pred = []\n",
    "for face_img in masked:\n",
    "  face_rgb = face_img[:,:,::-1]   \n",
    "  face_arr = cv2.resize(face_rgb, (224, 224), interpolation=cv2.INTER_NEAREST)\n",
    "  face_arr = np.expand_dims(face_arr, axis=0)\n",
    "  face_arr = preprocess_input(face_arr)\n",
    "\n",
    "  # Predict if the Face is Masked or Not\n",
    "  score = mask_classifier.predict(face_arr)\n",
    "  if score[0][0] < 0.5:\n",
    "    y_pred.append('masked')\n",
    "  else:\n",
    "    y_pred.append('unmasked')"
   ]
  },
  {
   "cell_type": "code",
   "execution_count": 44,
   "metadata": {},
   "outputs": [],
   "source": [
    "for face_img in unmasked:\n",
    "  face_rgb = face_img[:,:,::-1]   \n",
    "  face_arr = cv2.resize(face_rgb, (224, 224), interpolation=cv2.INTER_NEAREST)\n",
    "  face_arr = np.expand_dims(face_arr, axis=0)\n",
    "  face_arr = preprocess_input(face_arr)\n",
    "\n",
    "  # Predict if the Face is Masked or Not\n",
    "  score = mask_classifier.predict(face_arr)\n",
    "  if score[0][0] < 0.5:\n",
    "    y_pred.append('masked')\n",
    "  else:\n",
    "    y_pred.append('unmasked')"
   ]
  },
  {
   "cell_type": "code",
   "execution_count": 45,
   "metadata": {},
   "outputs": [
    {
     "data": {
      "image/png": "[encoded data removed]",
      "text/plain": [
       "<Figure size 432x288 with 2 Axes>"
      ]
     },
     "metadata": {
      "needs_background": "light"
     },
     "output_type": "display_data"
    }
   ],
   "source": [
    "cm = confusion_matrix(y_true, y_pred)\n",
    "disp = ConfusionMatrixDisplay(confusion_matrix=cm,display_labels=['Masked','Unmasked'])\n",
    "disp.plot()\n",
    "plt.show()"
   ]
  },
  {
   "cell_type": "code",
   "execution_count": 46,
   "metadata": {},
   "outputs": [
    {
     "name": "stdout",
     "output_type": "stream",
     "text": [
      "Accuracy =>  0.9808467741935484\n"
     ]
    }
   ],
   "source": [
    "acc = (cm[0][0] + cm[1][1]) / (cm[0][0] + cm[0][1] + cm[1][0] + cm[1][1])\n",
    "print('Accuracy => ', acc)"
   ]
  }
 ],
 "metadata": {
  "interpreter": {
   "hash": "aee8b7b246df8f9039afb4144a1f6fd8d2ca17a180786b69acc140d282b71a49"
  },
  "kernelspec": {
   "display_name": "Python 3.9.8 64-bit",
   "language": "python",
   "name": "python3"
  },
  "language_info": {
   "codemirror_mode": {
    "name": "ipython",
    "version": 3
   },
   "file_extension": ".py",
   "mimetype": "text/x-python",
   "name": "python",
   "nbconvert_exporter": "python",
   "pygments_lexer": "ipython3",
   "version": "3.9.8"
  },
  "orig_nbformat": 4
 },
 "nbformat": 4,
 "nbformat_minor": 2
}
